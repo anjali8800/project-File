{
 "cells": [
  {
   "cell_type": "code",
   "execution_count": 1,
   "id": "1f0ee72d",
   "metadata": {},
   "outputs": [
    {
     "name": "stdout",
     "output_type": "stream",
     "text": [
      "25\n"
     ]
    }
   ],
   "source": [
    "a=12\n",
    "b=13\n",
    "print(a+b)\n"
   ]
  },
  {
   "cell_type": "code",
   "execution_count": 2,
   "id": "b545609a",
   "metadata": {},
   "outputs": [
    {
     "name": "stdout",
     "output_type": "stream",
     "text": [
      "26\n"
     ]
    }
   ],
   "source": [
    "g=23 \n",
    "h=3\n",
    "print(g+h)"
   ]
  },
  {
   "cell_type": "code",
   "execution_count": 2,
   "id": "d88c5475",
   "metadata": {},
   "outputs": [
    {
     "name": "stdout",
     "output_type": "stream",
     "text": [
      "20\n"
     ]
    }
   ],
   "source": [
    "a=43\n",
    "b=23\n",
    "print(a-b)"
   ]
  },
  {
   "cell_type": "code",
   "execution_count": 3,
   "id": "e74e6049",
   "metadata": {},
   "outputs": [
    {
     "name": "stdout",
     "output_type": "stream",
     "text": [
      "22\n"
     ]
    }
   ],
   "source": [
    "s=26\n",
    "t=4\n",
    "print(s-t)"
   ]
  },
  {
   "cell_type": "code",
   "execution_count": 4,
   "id": "743d9dd7",
   "metadata": {},
   "outputs": [
    {
     "name": "stdout",
     "output_type": "stream",
     "text": [
      "2210\n"
     ]
    }
   ],
   "source": [
    "f=34\n",
    "g=65\n",
    "print(f*g)"
   ]
  },
  {
   "cell_type": "code",
   "execution_count": 5,
   "id": "7f39b327",
   "metadata": {},
   "outputs": [
    {
     "name": "stdout",
     "output_type": "stream",
     "text": [
      "405\n"
     ]
    }
   ],
   "source": [
    "h=45\n",
    "d=9\n",
    "print(h*d)"
   ]
  },
  {
   "cell_type": "code",
   "execution_count": 7,
   "id": "6bb1cea6",
   "metadata": {},
   "outputs": [
    {
     "name": "stdout",
     "output_type": "stream",
     "text": [
      "7\n"
     ]
    }
   ],
   "source": [
    "w=49\n",
    "s=7\n",
    "print(w//s)"
   ]
  },
  {
   "cell_type": "code",
   "execution_count": 8,
   "id": "4bcbd60a",
   "metadata": {},
   "outputs": [
    {
     "name": "stdout",
     "output_type": "stream",
     "text": [
      "1058\n"
     ]
    }
   ],
   "source": [
    "t=46\n",
    "d=23\n",
    "print(t*d)"
   ]
  },
  {
   "cell_type": "code",
   "execution_count": 9,
   "id": "b74c83db",
   "metadata": {},
   "outputs": [
    {
     "name": "stdout",
     "output_type": "stream",
     "text": [
      "268\n"
     ]
    }
   ],
   "source": [
    "t=56\n",
    "r=78\n",
    "d=89\n",
    "s=45\n",
    "print(t+r+d+s)"
   ]
  },
  {
   "cell_type": "code",
   "execution_count": 13,
   "id": "7dc336c9",
   "metadata": {},
   "outputs": [
    {
     "name": "stdout",
     "output_type": "stream",
     "text": [
      "135\n"
     ]
    }
   ],
   "source": [
    "d=34\n",
    "r=23\n",
    "w=78\n",
    "print(d+r+w)"
   ]
  },
  {
   "cell_type": "code",
   "execution_count": 15,
   "id": "49027a3c",
   "metadata": {},
   "outputs": [
    {
     "name": "stdout",
     "output_type": "stream",
     "text": [
      "q is greater than 100\n"
     ]
    }
   ],
   "source": [
    "q=120\n",
    "if q>100:\n",
    "    print(\"q is greater than 100\")\n",
    "else:\n",
    "    print(\"q is smaller than 100\")"
   ]
  },
  {
   "cell_type": "code",
   "execution_count": 16,
   "id": "0296fdba",
   "metadata": {},
   "outputs": [
    {
     "name": "stdout",
     "output_type": "stream",
     "text": [
      "b is greater than a\n"
     ]
    }
   ],
   "source": [
    "a=34\n",
    "b=45\n",
    "if b>a:\n",
    "    print(\"b is greater than a\")\n",
    "else: \n",
    "    print(\"b is smallest than a\")\n",
    "   "
   ]
  },
  {
   "cell_type": "code",
   "execution_count": 17,
   "id": "0bf919a0",
   "metadata": {},
   "outputs": [
    {
     "name": "stdout",
     "output_type": "stream",
     "text": [
      "a is smallest than f\n"
     ]
    }
   ],
   "source": [
    "a=234\n",
    "f=345\n",
    "if a<f:\n",
    "    print(\"a is smallest than f\")\n",
    "else:\n",
    "    print(\"a is greater than f\")"
   ]
  },
  {
   "cell_type": "code",
   "execution_count": 18,
   "id": "36776ab3",
   "metadata": {},
   "outputs": [
    {
     "name": "stdout",
     "output_type": "stream",
     "text": [
      "a is smallest than 100\n"
     ]
    }
   ],
   "source": [
    "a=56\n",
    "if a>100:\n",
    "    print(\"a is greater than 100\")\n",
    "else:\n",
    "    print(\"a is smallest than 100\")"
   ]
  },
  {
   "cell_type": "code",
   "execution_count": 19,
   "id": "37570388",
   "metadata": {},
   "outputs": [
    {
     "name": "stdout",
     "output_type": "stream",
     "text": [
      "student is pass\n"
     ]
    }
   ],
   "source": [
    "x=45\n",
    "y=56\n",
    "if x+y>=100:\n",
    "    print(\"student is pass\")\n",
    "else:\n",
    "    print(\"student is fail\")"
   ]
  },
  {
   "cell_type": "code",
   "execution_count": 20,
   "id": "ddc0a72e",
   "metadata": {},
   "outputs": [
    {
     "name": "stdout",
     "output_type": "stream",
     "text": [
      "student is pass\n"
     ]
    }
   ],
   "source": [
    "x=76\n",
    "y=75\n",
    "if x>40 and y>40:\n",
    "    print(\"student is pass\")\n",
    "else:\n",
    "    print(\"student is fail\")"
   ]
  },
  {
   "cell_type": "code",
   "execution_count": 1,
   "id": "a8ebbc03",
   "metadata": {},
   "outputs": [
    {
     "name": "stdout",
     "output_type": "stream",
     "text": [
      "student is pass\n"
     ]
    }
   ],
   "source": [
    "r=56\n",
    "s=45\n",
    "if r>40 and s>40 and r+s>=100:\n",
    "    print(\"student is pass\")\n",
    "else:\n",
    "    print(\"student is fail\")\n"
   ]
  },
  {
   "cell_type": "code",
   "execution_count": 3,
   "id": "1a6e08d6",
   "metadata": {},
   "outputs": [
    {
     "name": "stdout",
     "output_type": "stream",
     "text": [
      "given number is even\n"
     ]
    }
   ],
   "source": [
    "r=56\n",
    "if r%2==0:\n",
    "    print(\"given number is even\")\n",
    "else:\n",
    "    print(\"given number is odd\")"
   ]
  },
  {
   "cell_type": "code",
   "execution_count": 4,
   "id": "db2284a5",
   "metadata": {},
   "outputs": [
    {
     "name": "stdout",
     "output_type": "stream",
     "text": [
      "x is not divisible by y and the answer is 8\n"
     ]
    }
   ],
   "source": [
    "x=98\n",
    "y=8\n",
    "if x%y==0:\n",
    "    x=x+2\n",
    "    print(\"x is divisible by y and the answer is \",x)\n",
    "else:\n",
    "    print(\"x is not divisible by y and the answer is\",y)\n"
   ]
  },
  {
   "cell_type": "code",
   "execution_count": 10,
   "id": "2c2ba83d",
   "metadata": {},
   "outputs": [
    {
     "name": "stdout",
     "output_type": "stream",
     "text": [
      "q is divisible by w and the answer is 19\n"
     ]
    }
   ],
   "source": [
    "q=34\n",
    "w=17\n",
    "if q%w==0:\n",
    "    w=w+2\n",
    "    print(\"q is divisible by w and the answer is\",w)\n",
    "else:\n",
    "    print(\"q is not divisible by w and the answer is\",q)"
   ]
  },
  {
   "cell_type": "code",
   "execution_count": 9,
   "id": "a66a3d7b",
   "metadata": {},
   "outputs": [
    {
     "name": "stdout",
     "output_type": "stream",
     "text": [
      "y is divisible by 3\n"
     ]
    }
   ],
   "source": [
    "y=45\n",
    "if y%3==0:\n",
    "    print(\"y is divisible by 3\")\n",
    "else:\n",
    "    print(\"y is not divisible by 3\")"
   ]
  },
  {
   "cell_type": "code",
   "execution_count": 14,
   "id": "a88a8de0",
   "metadata": {},
   "outputs": [
    {
     "name": "stdout",
     "output_type": "stream",
     "text": [
      "a is divisible by b and the answer is 36\n"
     ]
    }
   ],
   "source": [
    "a=34\n",
    "b=2\n",
    "if a%b==0:\n",
    "    a=a+2\n",
    "    print(\"a is divisible by b and the answer is\",a)\n",
    "else:\n",
    "    b=b+2\n",
    "    print(\"a is not divisible by b and the answer is\",b)"
   ]
  },
  {
   "cell_type": "code",
   "execution_count": 15,
   "id": "7f441041",
   "metadata": {},
   "outputs": [
    {
     "name": "stdout",
     "output_type": "stream",
     "text": [
      "x is not divisible by y and the answer is 15\n"
     ]
    }
   ],
   "source": [
    "x=2\n",
    "y=3\n",
    "if x%y==0:\n",
    "    x=x*5\n",
    "    print(\"x is divisible by y and the answer is\",x)\n",
    "else:\n",
    "    y=y*5\n",
    "    print(\"x is not divisible by y and the answer is\",y)"
   ]
  },
  {
   "cell_type": "code",
   "execution_count": 2,
   "id": "0ed6dcf7",
   "metadata": {},
   "outputs": [
    {
     "name": "stdout",
     "output_type": "stream",
     "text": [
      "0\n",
      "1\n",
      "2\n",
      "3\n"
     ]
    }
   ],
   "source": [
    "for a in range(4):\n",
    "    print(a)"
   ]
  },
  {
   "cell_type": "code",
   "execution_count": 4,
   "id": "7a72db88",
   "metadata": {},
   "outputs": [
    {
     "name": "stdout",
     "output_type": "stream",
     "text": [
      "0\n",
      "1\n",
      "2\n",
      "3\n",
      "4\n",
      "5\n",
      "6\n"
     ]
    }
   ],
   "source": [
    "for w in range(7):\n",
    "    print(w)"
   ]
  },
  {
   "cell_type": "code",
   "execution_count": 5,
   "id": "8e5c1f3e",
   "metadata": {},
   "outputs": [
    {
     "name": "stdout",
     "output_type": "stream",
     "text": [
      "1\n",
      "2\n",
      "3\n",
      "4\n",
      "5\n",
      "6\n",
      "7\n",
      "8\n",
      "9\n",
      "10\n"
     ]
    }
   ],
   "source": [
    "for x in range(1,11):\n",
    "    print(x)"
   ]
  },
  {
   "cell_type": "code",
   "execution_count": 3,
   "id": "7bca728d",
   "metadata": {},
   "outputs": [
    {
     "name": "stdout",
     "output_type": "stream",
     "text": [
      "2 4 6 8 10 12 14 16 18 20 22 24 26 28 30 32 34 36 38 40 42 44 46 48 50 52 54 56 58 60 62 64 66 68 70 72 74 76 78 80 82 84 86 88 90 92 94 96 98 "
     ]
    }
   ],
   "source": [
    "for x in range(2,100,2):\n",
    "    print(x,end=\" \")"
   ]
  },
  {
   "cell_type": "code",
   "execution_count": 7,
   "id": "064e14ff",
   "metadata": {},
   "outputs": [
    {
     "name": "stdout",
     "output_type": "stream",
     "text": [
      "1 is odd number\n",
      "3 is odd number\n",
      "5 is odd number\n",
      "7 is odd number\n",
      "9 is odd number\n",
      "11 is odd number\n",
      "13 is odd number\n",
      "15 is odd number\n",
      "17 is odd number\n",
      "19 is odd number\n",
      "21 is odd number\n",
      "23 is odd number\n",
      "25 is odd number\n",
      "27 is odd number\n",
      "29 is odd number\n",
      "31 is odd number\n",
      "33 is odd number\n",
      "35 is odd number\n",
      "37 is odd number\n",
      "39 is odd number\n",
      "41 is odd number\n",
      "43 is odd number\n",
      "45 is odd number\n",
      "47 is odd number\n",
      "49 is odd number\n",
      "51 is odd number\n",
      "53 is odd number\n",
      "55 is odd number\n",
      "57 is odd number\n",
      "59 is odd number\n",
      "61 is odd number\n",
      "63 is odd number\n",
      "65 is odd number\n",
      "67 is odd number\n",
      "69 is odd number\n",
      "71 is odd number\n",
      "73 is odd number\n",
      "75 is odd number\n",
      "77 is odd number\n",
      "79 is odd number\n",
      "81 is odd number\n",
      "83 is odd number\n",
      "85 is odd number\n",
      "87 is odd number\n",
      "89 is odd number\n",
      "91 is odd number\n",
      "93 is odd number\n",
      "95 is odd number\n",
      "97 is odd number\n",
      "99 is odd number\n"
     ]
    }
   ],
   "source": [
    "for a in range(1,101):\n",
    "        if a%2==1:\n",
    "            print(a,\"is odd number\")"
   ]
  },
  {
   "cell_type": "code",
   "execution_count": 8,
   "id": "a3b2523a",
   "metadata": {},
   "outputs": [
    {
     "name": "stdout",
     "output_type": "stream",
     "text": [
      "2 is even number\n",
      "4 is even number\n",
      "6 is even number\n",
      "8 is even number\n",
      "10 is even number\n",
      "12 is even number\n",
      "14 is even number\n",
      "16 is even number\n",
      "18 is even number\n",
      "20 is even number\n",
      "22 is even number\n",
      "24 is even number\n",
      "26 is even number\n",
      "28 is even number\n",
      "30 is even number\n",
      "32 is even number\n",
      "34 is even number\n",
      "36 is even number\n",
      "38 is even number\n",
      "40 is even number\n",
      "42 is even number\n",
      "44 is even number\n",
      "46 is even number\n",
      "48 is even number\n",
      "50 is even number\n",
      "52 is even number\n",
      "54 is even number\n",
      "56 is even number\n",
      "58 is even number\n",
      "60 is even number\n",
      "62 is even number\n",
      "64 is even number\n",
      "66 is even number\n",
      "68 is even number\n",
      "70 is even number\n",
      "72 is even number\n",
      "74 is even number\n",
      "76 is even number\n",
      "78 is even number\n",
      "80 is even number\n",
      "82 is even number\n",
      "84 is even number\n",
      "86 is even number\n",
      "88 is even number\n",
      "90 is even number\n",
      "92 is even number\n",
      "94 is even number\n",
      "96 is even number\n",
      "98 is even number\n"
     ]
    }
   ],
   "source": [
    "for a in range(1,100):\n",
    "    if a%2==0:\n",
    "        print(a,\"is even number\")\n",
    "    "
   ]
  },
  {
   "cell_type": "code",
   "execution_count": 16,
   "id": "1829c94a",
   "metadata": {},
   "outputs": [
    {
     "name": "stdout",
     "output_type": "stream",
     "text": [
      "enter the starting value :45\n",
      "enter the final value :12\n",
      "enter the valid number\n"
     ]
    }
   ],
   "source": [
    "a=int(input(\"enter the starting value :\"))\n",
    "b=int(input(\"enter the final value :\"))\n",
    "if a<b:\n",
    "    for c in range (a,b):\n",
    "        print(c)\n",
    "else:\n",
    "        print(\"enter the valid number\")\n",
    "    "
   ]
  },
  {
   "cell_type": "code",
   "execution_count": 4,
   "id": "7362e70e",
   "metadata": {},
   "outputs": [
    {
     "name": "stdout",
     "output_type": "stream",
     "text": [
      "45 44 43 42 41 40 39 38 37 36 35 34 33 32 31 30 29 28 27 26 25 24 23 22 21 20 19 18 17 16 15 14 13 12 11 10 9 8 7 6 "
     ]
    }
   ],
   "source": [
    "for q in range(45,5,-1):\n",
    "    print(q,end=\" \")"
   ]
  },
  {
   "cell_type": "code",
   "execution_count": 19,
   "id": "45d0496c",
   "metadata": {},
   "outputs": [
    {
     "name": "stdout",
     "output_type": "stream",
     "text": [
      "17 X 1 = 17\n",
      "17 X 2 = 34\n",
      "17 X 3 = 51\n",
      "17 X 4 = 68\n",
      "17 X 5 = 85\n",
      "17 X 6 = 102\n",
      "17 X 7 = 119\n",
      "17 X 8 = 136\n",
      "17 X 9 = 153\n",
      "17 X 10 = 170\n"
     ]
    }
   ],
   "source": [
    "for x in range(1,11):\n",
    "    print(\"17 X\",x, \"=\", x*17)"
   ]
  },
  {
   "cell_type": "code",
   "execution_count": 23,
   "id": "4d9498db",
   "metadata": {},
   "outputs": [
    {
     "name": "stdout",
     "output_type": "stream",
     "text": [
      "enter the maximum marks of maths: 100\n",
      "enter the marks of maths: 98\n",
      "enter the maximum marks 0f science: 100\n",
      "enter the marks of science: 97\n",
      "enter the maximum marks of english: 100\n",
      "enter the marks of english: 98\n",
      "97\n"
     ]
    }
   ],
   "source": [
    "x_m=int(input(\"enter the maximum marks of maths: \"))\n",
    "m=int(input(\"enter the marks of maths: \"))\n",
    "y_s=int(input(\"enter the maximum marks 0f science: \"))\n",
    "s=int(input(\"enter the marks of science: \"))\n",
    "z_e=int(input(\"enter the maximum marks of english: \"))\n",
    "e=int(input(\"enter the marks of english: \"))\n",
    "a=x_m+y_s+z_e\n",
    "b=(m+s+e)*100//a\n",
    "print(b)\n"
   ]
  },
  {
   "cell_type": "code",
   "execution_count": 1,
   "id": "472e1e0b",
   "metadata": {},
   "outputs": [
    {
     "name": "stdout",
     "output_type": "stream",
     "text": [
      "1,2,3,4,5,6,7,8,9,10,11,12,13,14,15,16,17,18,19,20,21,22,23,24,25,26,27,28,29,30,31,32,33,34,35,36,37,38,39,40,41,42,43,44,45,46,47,48,49,50,51,52,53,54,55,56,57,58,59,60,61,62,63,64,65,66,67,68,69,70,71,72,73,74,75,76,77,78,79,80,81,82,83,84,85,86,87,88,89,90,91,92,93,94,95,96,97,98,99,100,"
     ]
    }
   ],
   "source": [
    "for x in range(1,101):\n",
    "    print(x,end=\",\")"
   ]
  },
  {
   "cell_type": "code",
   "execution_count": 37,
   "id": "616dd63a",
   "metadata": {},
   "outputs": [
    {
     "name": "stdout",
     "output_type": "stream",
     "text": [
      "576 is even number\n",
      "578 is even number\n",
      "580 is even number\n",
      "582 is even number\n",
      "584 is even number\n",
      "586 is even number\n",
      "588 is even number\n",
      "590 is even number\n",
      "592 is even number\n",
      "594 is even number\n",
      "596 is even number\n",
      "598 is even number\n",
      "600 is even number\n",
      "602 is even number\n",
      "604 is even number\n",
      "606 is even number\n",
      "608 is even number\n",
      "610 is even number\n",
      "612 is even number\n",
      "614 is even number\n",
      "616 is even number\n",
      "618 is even number\n",
      "620 is even number\n",
      "622 is even number\n",
      "624 is even number\n",
      "626 is even number\n",
      "628 is even number\n",
      "630 is even number\n",
      "632 is even number\n",
      "634 is even number\n",
      "636 is even number\n",
      "638 is even number\n",
      "640 is even number\n",
      "642 is even number\n",
      "644 is even number\n",
      "646 is even number\n",
      "648 is even number\n",
      "650 is even number\n",
      "652 is even number\n",
      "654 is even number\n",
      "656 is even number\n",
      "658 is even number\n",
      "660 is even number\n",
      "662 is even number\n",
      "664 is even number\n",
      "666 is even number\n",
      "668 is even number\n",
      "670 is even number\n",
      "672 is even number\n",
      "674 is even number\n",
      "676 is even number\n",
      "678 is even number\n",
      "680 is even number\n",
      "682 is even number\n",
      "684 is even number\n",
      "686 is even number\n",
      "688 is even number\n",
      "690 is even number\n",
      "692 is even number\n",
      "694 is even number\n",
      "696 is even number\n",
      "698 is even number\n",
      "700 is even number\n",
      "702 is even number\n",
      "704 is even number\n",
      "706 is even number\n",
      "708 is even number\n",
      "710 is even number\n",
      "712 is even number\n",
      "714 is even number\n",
      "716 is even number\n",
      "718 is even number\n",
      "720 is even number\n",
      "722 is even number\n",
      "724 is even number\n",
      "726 is even number\n",
      "728 is even number\n",
      "730 is even number\n",
      "732 is even number\n",
      "734 is even number\n",
      "736 is even number\n",
      "738 is even number\n",
      "740 is even number\n",
      "742 is even number\n",
      "744 is even number\n",
      "746 is even number\n",
      "748 is even number\n",
      "750 is even number\n",
      "752 is even number\n",
      "754 is even number\n",
      "756 is even number\n",
      "758 is even number\n",
      "760 is even number\n",
      "762 is even number\n",
      "764 is even number\n",
      "766 is even number\n",
      "768 is even number\n",
      "770 is even number\n",
      "772 is even number\n",
      "774 is even number\n",
      "776 is even number\n",
      "778 is even number\n",
      "780 is even number\n",
      "782 is even number\n",
      "784 is even number\n",
      "786 is even number\n",
      "788 is even number\n",
      "790 is even number\n",
      "792 is even number\n",
      "794 is even number\n",
      "796 is even number\n",
      "798 is even number\n",
      "800 is even number\n",
      "802 is even number\n",
      "804 is even number\n",
      "806 is even number\n",
      "808 is even number\n",
      "810 is even number\n",
      "812 is even number\n",
      "814 is even number\n",
      "816 is even number\n",
      "818 is even number\n",
      "820 is even number\n",
      "822 is even number\n",
      "824 is even number\n",
      "826 is even number\n",
      "828 is even number\n",
      "830 is even number\n",
      "832 is even number\n",
      "834 is even number\n",
      "836 is even number\n",
      "838 is even number\n",
      "840 is even number\n",
      "842 is even number\n",
      "844 is even number\n",
      "846 is even number\n",
      "848 is even number\n",
      "850 is even number\n",
      "852 is even number\n",
      "854 is even number\n",
      "856 is even number\n",
      "858 is even number\n",
      "860 is even number\n",
      "862 is even number\n",
      "864 is even number\n",
      "866 is even number\n",
      "868 is even number\n",
      "870 is even number\n",
      "872 is even number\n",
      "874 is even number\n",
      "876 is even number\n",
      "878 is even number\n",
      "880 is even number\n",
      "882 is even number\n",
      "884 is even number\n",
      "886 is even number\n",
      "888 is even number\n",
      "890 is even number\n",
      "892 is even number\n",
      "894 is even number\n",
      "896 is even number\n",
      "898 is even number\n",
      "900 is even number\n",
      "902 is even number\n",
      "904 is even number\n",
      "906 is even number\n",
      "908 is even number\n",
      "910 is even number\n",
      "912 is even number\n",
      "914 is even number\n",
      "916 is even number\n",
      "918 is even number\n",
      "920 is even number\n",
      "922 is even number\n",
      "924 is even number\n",
      "926 is even number\n",
      "928 is even number\n",
      "930 is even number\n",
      "932 is even number\n",
      "934 is even number\n",
      "936 is even number\n",
      "938 is even number\n",
      "940 is even number\n",
      "942 is even number\n",
      "944 is even number\n",
      "946 is even number\n",
      "948 is even number\n",
      "950 is even number\n",
      "952 is even number\n",
      "954 is even number\n",
      "956 is even number\n",
      "958 is even number\n",
      "960 is even number\n",
      "962 is even number\n",
      "964 is even number\n",
      "966 is even number\n",
      "968 is even number\n",
      "970 is even number\n",
      "972 is even number\n",
      "974 is even number\n",
      "976 is even number\n",
      "978 is even number\n",
      "980 is even number\n",
      "982 is even number\n",
      "984 is even number\n",
      "986 is even number\n",
      "988 is even number\n",
      "990 is even number\n",
      "992 is even number\n",
      "994 is even number\n",
      "996 is even number\n",
      "998 is even number\n",
      "1000 is even number\n",
      "1002 is even number\n",
      "1004 is even number\n",
      "1006 is even number\n",
      "1008 is even number\n",
      "1010 is even number\n",
      "1012 is even number\n",
      "1014 is even number\n",
      "1016 is even number\n",
      "1018 is even number\n",
      "1020 is even number\n",
      "1022 is even number\n",
      "1024 is even number\n",
      "1024 is odd number\n"
     ]
    }
   ],
   "source": [
    "for y in range(576,1025):\n",
    "    if y%2==0:\n",
    "        print(y,\"is even number\")\n",
    "else:\n",
    "    print(y,\"is odd number\")"
   ]
  },
  {
   "cell_type": "code",
   "execution_count": 35,
   "id": "ed71063c",
   "metadata": {},
   "outputs": [
    {
     "name": "stdout",
     "output_type": "stream",
     "text": [
      "enter the number of:56\n",
      "1\n",
      "2\n",
      "4\n",
      "7\n",
      "8\n",
      "14\n",
      "28\n",
      "56\n"
     ]
    }
   ],
   "source": [
    "x=int(input(\"enter the number of:\"))\n",
    "for a in range(1,x+1):\n",
    "    if x%a==0:\n",
    "        print(a)"
   ]
  },
  {
   "cell_type": "code",
   "execution_count": 12,
   "id": "3ba5ab86",
   "metadata": {},
   "outputs": [
    {
     "name": "stdout",
     "output_type": "stream",
     "text": [
      "enter the number124\n",
      "1\n",
      "2\n",
      "4\n",
      "31\n",
      "62\n",
      "124\n"
     ]
    }
   ],
   "source": [
    "y=int(input(\"enter the number\"))\n",
    "for s in range(1,y+1):\n",
    "    if y%s==0:\n",
    "        print(s)"
   ]
  },
  {
   "cell_type": "code",
   "execution_count": 13,
   "id": "389e09ff",
   "metadata": {},
   "outputs": [
    {
     "name": "stdout",
     "output_type": "stream",
     "text": [
      "the loop takes 448 rounds\n"
     ]
    }
   ],
   "source": [
    "count=0\n",
    "for a in range(576,1024):\n",
    "    count=count+1\n",
    "print(\"the loop takes\",count,\"rounds\")"
   ]
  },
  {
   "cell_type": "code",
   "execution_count": 20,
   "id": "aa244a3e",
   "metadata": {},
   "outputs": [
    {
     "name": "stdout",
     "output_type": "stream",
     "text": [
      "enter the number24\n",
      "24 is a composite number\n"
     ]
    }
   ],
   "source": [
    "x=int(input(\"enter the number\"))\n",
    "count=0\n",
    "for a in range(1,x+1):\n",
    "    if x%a==0:\n",
    "        count=count+1\n",
    "if count==2:\n",
    "    print(x,\"is prime number\")\n",
    "else:\n",
    "    print(x,\"is a composite number\")\n",
    "    "
   ]
  },
  {
   "cell_type": "code",
   "execution_count": 26,
   "id": "682ac60c",
   "metadata": {},
   "outputs": [
    {
     "name": "stdout",
     "output_type": "stream",
     "text": [
      "enter the starting number68\n",
      "enter the final number78\n",
      "68\n",
      "69\n",
      "70\n",
      "71\n",
      "72\n",
      "73\n",
      "74\n",
      "75\n",
      "76\n",
      "77\n",
      "78\n"
     ]
    }
   ],
   "source": [
    "x=int(input(\"enter the starting number\"))\n",
    "y=int(input(\"enter the final number\"))\n",
    "if x<y:\n",
    "    for a in range(x,y+1):\n",
    "        print(a)\n",
    "        \n",
    "\n",
    "    \n",
    "    "
   ]
  },
  {
   "cell_type": "code",
   "execution_count": 33,
   "id": "c19d7e91",
   "metadata": {},
   "outputs": [
    {
     "name": "stdout",
     "output_type": "stream",
     "text": [
      "enter the starting value78\n",
      "enter the ending value12\n",
      "78, 77, 76, 75, 74, 73, 72, 71, 70, 69, 68, 67, 66, 65, 64, 63, 62, 61, 60, 59, 58, 57, 56, 55, 54, 53, 52, 51, 50, 49, 48, 47, 46, 45, 44, 43, 42, 41, 40, 39, 38, 37, 36, 35, 34, 33, 32, 31, 30, 29, 28, 27, 26, 25, 24, 23, 22, 21, 20, 19, 18, 17, 16, 15, 14, 13, 12, "
     ]
    }
   ],
   "source": [
    "a=int(input(\"enter the starting value\"))\n",
    "b=int(input(\"enter the ending value\"))\n",
    "if a<b:\n",
    "    for a in range(a,b+1):\n",
    "        print(a)\n",
    "else:\n",
    "    for a in range(a,b-1,-1):\n",
    "        print(a,end=\", \")\n",
    "    "
   ]
  },
  {
   "cell_type": "code",
   "execution_count": 13,
   "id": "5240c66d",
   "metadata": {},
   "outputs": [
    {
     "name": "stdout",
     "output_type": "stream",
     "text": [
      "1 2 3  \n",
      "1 2 3  \n",
      "1 2 3  \n",
      "1 2 3  \n",
      "1 2 3  \n"
     ]
    }
   ],
   "source": [
    "for a in range(1,6):\n",
    "    for b in range(1,4):\n",
    "        print(b,end=\" \")\n",
    "    print(\" \")\n"
   ]
  },
  {
   "cell_type": "code",
   "execution_count": 10,
   "id": "079603e6",
   "metadata": {},
   "outputs": [
    {
     "name": "stdout",
     "output_type": "stream",
     "text": [
      "1 1 1 1  \n",
      "2 2 2 2  \n",
      "3 3 3 3  \n",
      "4 4 4 4  \n",
      "5 5 5 5  \n",
      "6 6 6 6  \n"
     ]
    }
   ],
   "source": [
    "for a in range(1,7):\n",
    "    for b in range(1,5):\n",
    "        print(a,end=\" \")\n",
    "    print(\" \")"
   ]
  },
  {
   "cell_type": "code",
   "execution_count": 15,
   "id": "ff878d51",
   "metadata": {},
   "outputs": [
    {
     "name": "stdout",
     "output_type": "stream",
     "text": [
      "a  \n",
      "a a  \n",
      "a a a  \n",
      "a a a a  \n",
      "a a a a a  \n",
      "a a a a a a  \n",
      "a a a a a a a  \n"
     ]
    }
   ],
   "source": [
    "for a in range(1,8):\n",
    "    for b in range(a):\n",
    "        print(\"a\",end=\" \")\n",
    "    print(\" \")"
   ]
  },
  {
   "cell_type": "code",
   "execution_count": 4,
   "id": "d27f684a",
   "metadata": {},
   "outputs": [
    {
     "name": "stdout",
     "output_type": "stream",
     "text": [
      "1  \n",
      "2 2  \n",
      "3 3 3  \n",
      "4 4 4 4  \n",
      "5 5 5 5 5  \n",
      "6 6 6 6 6 6  \n",
      "7 7 7 7 7 7 7  \n"
     ]
    }
   ],
   "source": [
    "for a in range(1,8):\n",
    "    for b in range(a):\n",
    "        print(a,end=\" \")\n",
    "    print(\" \")\n"
   ]
  },
  {
   "cell_type": "code",
   "execution_count": 3,
   "id": "0b66b130",
   "metadata": {},
   "outputs": [
    {
     "name": "stdout",
     "output_type": "stream",
     "text": [
      "8 8 8 8 8 8 8 8  \n",
      "7 7 7 7 7 7 7  \n",
      "6 6 6 6 6 6  \n",
      "5 5 5 5 5  \n",
      "4 4 4 4  \n",
      "3 3 3  \n",
      "2 2  \n",
      "1  \n"
     ]
    }
   ],
   "source": [
    "for a in range(8,0,-1):\n",
    "    for b in range(a):\n",
    "        print(a,end=\" \")\n",
    "    print(\" \")"
   ]
  },
  {
   "cell_type": "code",
   "execution_count": 8,
   "id": "5950ba87",
   "metadata": {},
   "outputs": [
    {
     "name": "stdout",
     "output_type": "stream",
     "text": [
      "a  \n",
      "a a  \n",
      "a a a  \n",
      "a a a a  \n",
      "a a a a a  \n",
      "a a a a  \n",
      "a a a  \n",
      "a a  \n",
      "a  \n"
     ]
    }
   ],
   "source": [
    "for a in range(1,5):\n",
    "    for b in range(a):\n",
    "        print(\"a\",end=\" \")\n",
    "    print(\" \")\n",
    "for a in range(5,0,-1):\n",
    "    for b in range(a):\n",
    "        print(\"a\",end=\" \")\n",
    "    print(\" \")"
   ]
  },
  {
   "cell_type": "code",
   "execution_count": 9,
   "id": "675d4cd8",
   "metadata": {},
   "outputs": [
    {
     "name": "stdout",
     "output_type": "stream",
     "text": [
      "a a a a a  \n",
      "a a a a  \n",
      "a a a  \n",
      "a a  \n",
      "a  \n",
      "a  \n",
      "a a  \n",
      "a a a  \n",
      "a a a a  \n"
     ]
    }
   ],
   "source": [
    "for a in range(5,0,-1):\n",
    "    for b in range(a):\n",
    "        print(\"a\",end=\" \")\n",
    "    print(\" \")\n",
    "for a in range(1,5):\n",
    "    for b in range(a):\n",
    "        print(\"a\",end=\" \")\n",
    "    print(\" \")"
   ]
  },
  {
   "cell_type": "code",
   "execution_count": 10,
   "id": "63d29ce9",
   "metadata": {},
   "outputs": [
    {
     "name": "stdout",
     "output_type": "stream",
     "text": [
      "hello world\n"
     ]
    }
   ],
   "source": [
    "def aa():\n",
    "    print(\"hello world\")\n",
    "aa()"
   ]
  },
  {
   "cell_type": "code",
   "execution_count": 12,
   "id": "555acf8f",
   "metadata": {},
   "outputs": [
    {
     "name": "stdout",
     "output_type": "stream",
     "text": [
      "the addition is: 79\n"
     ]
    }
   ],
   "source": [
    "def add():\n",
    "    a=23\n",
    "    b=56\n",
    "    c=a+b\n",
    "    print(\"the addition is:\",c)\n",
    "add()\n",
    "    "
   ]
  },
  {
   "cell_type": "code",
   "execution_count": 1,
   "id": "717ef067",
   "metadata": {},
   "outputs": [
    {
     "name": "stdout",
     "output_type": "stream",
     "text": [
      "india\n"
     ]
    }
   ],
   "source": [
    "def sss(j,k):\n",
    "    print(\"india\")\n",
    "sss(12,34)"
   ]
  },
  {
   "cell_type": "code",
   "execution_count": 2,
   "id": "7ef99bd9",
   "metadata": {},
   "outputs": [
    {
     "name": "stdout",
     "output_type": "stream",
     "text": [
      "46\n"
     ]
    }
   ],
   "source": [
    "def sss(j,k):\n",
    "    c=j+k\n",
    "    print(c)\n",
    "sss(12,34)"
   ]
  },
  {
   "cell_type": "code",
   "execution_count": 17,
   "id": "64aa8110",
   "metadata": {},
   "outputs": [
    {
     "name": "stdout",
     "output_type": "stream",
     "text": [
      "*            *   \n",
      "\n",
      "   *      *      \n",
      "\n",
      "      *         \n",
      "\n",
      "   *      *      \n",
      "\n",
      "*            *   \n",
      "\n"
     ]
    }
   ],
   "source": [
    "def loop():\n",
    "    for a in range(1,6):\n",
    "        for b in range(1,6):\n",
    "            if a+b==6 or a==b:\n",
    "                print(\"*\",end=\"   \")\n",
    "            else:\n",
    "                print(end=\"   \")\n",
    "        print(\"\\n\")\n",
    "    \n",
    "loop()"
   ]
  },
  {
   "cell_type": "code",
   "execution_count": 2,
   "id": "cb96ce83",
   "metadata": {},
   "outputs": [
    {
     "name": "stdout",
     "output_type": "stream",
     "text": [
      "*               *   \n",
      "\n",
      "    *       *       \n",
      "\n",
      "        *           \n",
      "\n"
     ]
    }
   ],
   "source": [
    "def loop():\n",
    "    for a in range(1,4):\n",
    "        for b in range(1,6):\n",
    "            if a+b==6 or a==b:\n",
    "                print(\"*\",end=\"   \")\n",
    "            else:\n",
    "                print(end=\"    \")\n",
    "        print(\"\\n\")\n",
    "loop()"
   ]
  },
  {
   "cell_type": "code",
   "execution_count": 29,
   "id": "034fbe4e",
   "metadata": {},
   "outputs": [
    {
     "name": "stdout",
     "output_type": "stream",
     "text": [
      "*           \n",
      "\n",
      "    *       \n",
      "\n",
      "        *   \n",
      "\n",
      "    *       \n",
      "\n",
      "*           \n",
      "\n"
     ]
    }
   ],
   "source": [
    "def loop():\n",
    "    for a in range(1,6):\n",
    "        for b in range(1,4):\n",
    "            if a+b==6 or a==b:\n",
    "                print(\"*\",end=\"   \")\n",
    "            else:\n",
    "                print(end=\"    \")\n",
    "        print(\"\\n\")\n",
    "loop()"
   ]
  },
  {
   "cell_type": "code",
   "execution_count": 31,
   "id": "2e99af0a",
   "metadata": {},
   "outputs": [
    {
     "name": "stdout",
     "output_type": "stream",
     "text": [
      "*               *   \n",
      "\n",
      "    *       *       \n",
      "\n",
      "        *           \n",
      "\n",
      "    *       *       \n",
      "\n",
      "*               *   \n",
      "\n",
      "                    \n",
      "\n"
     ]
    }
   ],
   "source": [
    "def loop():\n",
    "    for a in range(1,7):\n",
    "        for b in range(1,6):\n",
    "            if a+b==6 or a==b:\n",
    "                print(\"*\",end=\"   \")\n",
    "            else:\n",
    "                print(end=\"    \")\n",
    "        print(\"\\n\")\n",
    "loop()"
   ]
  },
  {
   "cell_type": "code",
   "execution_count": 35,
   "id": "d9716620",
   "metadata": {},
   "outputs": [
    {
     "name": "stdout",
     "output_type": "stream",
     "text": [
      "*               *       \n",
      "\n",
      "    *       *           \n",
      "\n",
      "        *               \n",
      "\n",
      "    *       *           \n",
      "\n"
     ]
    }
   ],
   "source": [
    "def loop():\n",
    "    for a in range(1,5):\n",
    "        for b in range(1,7):\n",
    "            if a+b==6 or a==b:\n",
    "                print(\"*\",end=\"   \")\n",
    "            else:\n",
    "                print(end=\"    \")\n",
    "        print(\"\\n\")\n",
    "loop()"
   ]
  },
  {
   "cell_type": "code",
   "execution_count": 36,
   "id": "a12efbbb",
   "metadata": {},
   "outputs": [
    {
     "name": "stdout",
     "output_type": "stream",
     "text": [
      "angel  \n",
      "angel angel  \n",
      "angel angel angel  \n",
      "angel angel angel angel  \n",
      "angel angel angel angel angel  \n",
      "angel angel angel angel angel angel  \n",
      "angel angel angel angel angel angel angel  \n"
     ]
    }
   ],
   "source": [
    "for a in range(1,8):\n",
    "    for b in range(a):\n",
    "        print(\"angel\",end=\" \")\n",
    "    print(\" \")"
   ]
  },
  {
   "cell_type": "code",
   "execution_count": 37,
   "id": "150b82ec",
   "metadata": {},
   "outputs": [
    {
     "name": "stdout",
     "output_type": "stream",
     "text": [
      "angel angel angel angel angel angel  \n",
      "angel angel angel angel angel angel  \n",
      "angel angel angel angel angel angel  \n",
      "angel angel angel angel angel angel  \n",
      "angel angel angel angel angel angel  \n",
      "angel angel angel angel angel angel  \n",
      "angel angel angel angel angel angel  \n"
     ]
    }
   ],
   "source": [
    "for a in range(1,8):\n",
    "    for b in range(1,7):\n",
    "        print(\"angel\",end=\" \")\n",
    "    print(\" \")"
   ]
  },
  {
   "cell_type": "code",
   "execution_count": 39,
   "id": "1031e88b",
   "metadata": {},
   "outputs": [
    {
     "name": "stdout",
     "output_type": "stream",
     "text": [
      "angel angel angel angel angel angel  \n",
      "angel angel angel angel angel  \n",
      "angel angel angel angel  \n",
      "angel angel angel  \n",
      "angel angel  \n",
      "angel  \n",
      " \n"
     ]
    }
   ],
   "source": [
    "for a in range(1,8):\n",
    "    for b in range(b):\n",
    "        print(\"angel\",end=\" \")\n",
    "    print(\" \")"
   ]
  },
  {
   "cell_type": "code",
   "execution_count": null,
   "id": "bc90c62f",
   "metadata": {},
   "outputs": [],
   "source": [
    "for a in range(1,8):\n",
    "    for b in range(b):\n",
    "        print(\"angel\",end=\" \")\n",
    "    print(\" \")"
   ]
  }
 ],
 "metadata": {
  "kernelspec": {
   "display_name": "Python 3 (ipykernel)",
   "language": "python",
   "name": "python3"
  },
  "language_info": {
   "codemirror_mode": {
    "name": "ipython",
    "version": 3
   },
   "file_extension": ".py",
   "mimetype": "text/x-python",
   "name": "python",
   "nbconvert_exporter": "python",
   "pygments_lexer": "ipython3",
   "version": "3.9.12"
  }
 },
 "nbformat": 4,
 "nbformat_minor": 5
}
